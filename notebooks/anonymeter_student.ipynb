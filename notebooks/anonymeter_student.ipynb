{
 "cells": [
  {
   "cell_type": "code",
   "execution_count": 1,
   "id": "c64a6fab-1676-4539-b460-5b2fdb456b04",
   "metadata": {},
   "outputs": [],
   "source": [
    "import os\n",
    "import pandas as pd\n",
    "import matplotlib.pyplot as plt\n",
    "import seaborn as sns\n",
    "\n",
    "from anonymeter.evaluators import SinglingOutEvaluator\n",
    "from anonymeter.evaluators import LinkabilityEvaluator\n",
    "from anonymeter.evaluators import InferenceEvaluator"
   ]
  },
  {
   "cell_type": "code",
   "execution_count": 2,
   "id": "fc128115-2f0c-43b1-9198-5c5594eae7f3",
   "metadata": {},
   "outputs": [],
   "source": [
    "ori = pd.read_csv(\"../tests/datasets/student_train.csv\")\n",
    "syn = pd.read_csv(\"../tests/datasets/student_syn_ctgan.csv\")\n",
    "control = pd.read_csv(\"../tests/datasets/student_control.csv\")"
   ]
  },
  {
   "cell_type": "code",
   "execution_count": 3,
   "id": "f6abeed8-23ae-4d4a-9cdb-006c0bba109c",
   "metadata": {},
   "outputs": [
    {
     "data": {
      "text/html": [
       "<div>\n",
       "<style scoped>\n",
       "    .dataframe tbody tr th:only-of-type {\n",
       "        vertical-align: middle;\n",
       "    }\n",
       "\n",
       "    .dataframe tbody tr th {\n",
       "        vertical-align: top;\n",
       "    }\n",
       "\n",
       "    .dataframe thead th {\n",
       "        text-align: right;\n",
       "    }\n",
       "</style>\n",
       "<table border=\"1\" class=\"dataframe\">\n",
       "  <thead>\n",
       "    <tr style=\"text-align: right;\">\n",
       "      <th></th>\n",
       "      <th>school</th>\n",
       "      <th>sex</th>\n",
       "      <th>age</th>\n",
       "      <th>address</th>\n",
       "      <th>famsize</th>\n",
       "      <th>Pstatus</th>\n",
       "      <th>Medu</th>\n",
       "      <th>Fedu</th>\n",
       "      <th>Mjob</th>\n",
       "      <th>Fjob</th>\n",
       "      <th>...</th>\n",
       "      <th>famrel</th>\n",
       "      <th>freetime</th>\n",
       "      <th>goout</th>\n",
       "      <th>Dalc</th>\n",
       "      <th>Walc</th>\n",
       "      <th>health</th>\n",
       "      <th>absences</th>\n",
       "      <th>G1</th>\n",
       "      <th>G2</th>\n",
       "      <th>G3</th>\n",
       "    </tr>\n",
       "  </thead>\n",
       "  <tbody>\n",
       "    <tr>\n",
       "      <th>0</th>\n",
       "      <td>GP</td>\n",
       "      <td>F</td>\n",
       "      <td>18</td>\n",
       "      <td>U</td>\n",
       "      <td>GT3</td>\n",
       "      <td>A</td>\n",
       "      <td>4</td>\n",
       "      <td>4</td>\n",
       "      <td>at_home</td>\n",
       "      <td>teacher</td>\n",
       "      <td>...</td>\n",
       "      <td>4</td>\n",
       "      <td>3</td>\n",
       "      <td>4</td>\n",
       "      <td>1</td>\n",
       "      <td>1</td>\n",
       "      <td>3</td>\n",
       "      <td>4</td>\n",
       "      <td>0</td>\n",
       "      <td>11</td>\n",
       "      <td>11</td>\n",
       "    </tr>\n",
       "    <tr>\n",
       "      <th>1</th>\n",
       "      <td>GP</td>\n",
       "      <td>F</td>\n",
       "      <td>17</td>\n",
       "      <td>U</td>\n",
       "      <td>GT3</td>\n",
       "      <td>T</td>\n",
       "      <td>1</td>\n",
       "      <td>1</td>\n",
       "      <td>at_home</td>\n",
       "      <td>other</td>\n",
       "      <td>...</td>\n",
       "      <td>5</td>\n",
       "      <td>3</td>\n",
       "      <td>3</td>\n",
       "      <td>1</td>\n",
       "      <td>1</td>\n",
       "      <td>3</td>\n",
       "      <td>2</td>\n",
       "      <td>9</td>\n",
       "      <td>11</td>\n",
       "      <td>11</td>\n",
       "    </tr>\n",
       "    <tr>\n",
       "      <th>2</th>\n",
       "      <td>GP</td>\n",
       "      <td>F</td>\n",
       "      <td>15</td>\n",
       "      <td>U</td>\n",
       "      <td>LE3</td>\n",
       "      <td>T</td>\n",
       "      <td>1</td>\n",
       "      <td>1</td>\n",
       "      <td>at_home</td>\n",
       "      <td>other</td>\n",
       "      <td>...</td>\n",
       "      <td>4</td>\n",
       "      <td>3</td>\n",
       "      <td>2</td>\n",
       "      <td>2</td>\n",
       "      <td>3</td>\n",
       "      <td>3</td>\n",
       "      <td>6</td>\n",
       "      <td>12</td>\n",
       "      <td>13</td>\n",
       "      <td>12</td>\n",
       "    </tr>\n",
       "    <tr>\n",
       "      <th>3</th>\n",
       "      <td>GP</td>\n",
       "      <td>F</td>\n",
       "      <td>15</td>\n",
       "      <td>U</td>\n",
       "      <td>GT3</td>\n",
       "      <td>T</td>\n",
       "      <td>4</td>\n",
       "      <td>2</td>\n",
       "      <td>health</td>\n",
       "      <td>services</td>\n",
       "      <td>...</td>\n",
       "      <td>3</td>\n",
       "      <td>2</td>\n",
       "      <td>2</td>\n",
       "      <td>1</td>\n",
       "      <td>1</td>\n",
       "      <td>5</td>\n",
       "      <td>0</td>\n",
       "      <td>14</td>\n",
       "      <td>14</td>\n",
       "      <td>14</td>\n",
       "    </tr>\n",
       "    <tr>\n",
       "      <th>4</th>\n",
       "      <td>GP</td>\n",
       "      <td>F</td>\n",
       "      <td>16</td>\n",
       "      <td>U</td>\n",
       "      <td>GT3</td>\n",
       "      <td>T</td>\n",
       "      <td>3</td>\n",
       "      <td>3</td>\n",
       "      <td>other</td>\n",
       "      <td>other</td>\n",
       "      <td>...</td>\n",
       "      <td>4</td>\n",
       "      <td>3</td>\n",
       "      <td>2</td>\n",
       "      <td>1</td>\n",
       "      <td>2</td>\n",
       "      <td>5</td>\n",
       "      <td>0</td>\n",
       "      <td>11</td>\n",
       "      <td>13</td>\n",
       "      <td>13</td>\n",
       "    </tr>\n",
       "  </tbody>\n",
       "</table>\n",
       "<p>5 rows × 33 columns</p>\n",
       "</div>"
      ],
      "text/plain": [
       "  school sex  age address famsize Pstatus  Medu  Fedu     Mjob      Fjob  ...  \\\n",
       "0     GP   F   18       U     GT3       A     4     4  at_home   teacher  ...   \n",
       "1     GP   F   17       U     GT3       T     1     1  at_home     other  ...   \n",
       "2     GP   F   15       U     LE3       T     1     1  at_home     other  ...   \n",
       "3     GP   F   15       U     GT3       T     4     2   health  services  ...   \n",
       "4     GP   F   16       U     GT3       T     3     3    other     other  ...   \n",
       "\n",
       "  famrel freetime  goout  Dalc  Walc health absences  G1  G2  G3  \n",
       "0      4        3      4     1     1      3        4   0  11  11  \n",
       "1      5        3      3     1     1      3        2   9  11  11  \n",
       "2      4        3      2     2     3      3        6  12  13  12  \n",
       "3      3        2      2     1     1      5        0  14  14  14  \n",
       "4      4        3      2     1     2      5        0  11  13  13  \n",
       "\n",
       "[5 rows x 33 columns]"
      ]
     },
     "execution_count": 3,
     "metadata": {},
     "output_type": "execute_result"
    }
   ],
   "source": [
    "ori.head()"
   ]
  },
  {
   "cell_type": "code",
   "execution_count": 4,
   "id": "43acdda6-19d5-4611-ba4f-498fc7bd2d40",
   "metadata": {},
   "outputs": [
    {
     "name": "stderr",
     "output_type": "stream",
     "text": [
      "C:\\Users\\kshit\\Desktop\\anonymeter\\src\\anonymeter\\stats\\confidence.py:215: UserWarning: Attack is as good or worse as baseline model. Estimated rates: attack = 0.1387663999314446, baseline = 0.21101311994515567. Analysis results cannot be trusted.\n",
      "  self._sanity_check()\n"
     ]
    },
    {
     "name": "stdout",
     "output_type": "stream",
     "text": [
      "n_attacks = 10 | PrivacyRisk(value=0.0, ci=(0.0, 0.22786538375780568))\n"
     ]
    },
    {
     "name": "stderr",
     "output_type": "stream",
     "text": [
      "Found 1 failed queries out of 20. Check DEBUG messages for more details.\n"
     ]
    },
    {
     "name": "stdout",
     "output_type": "stream",
     "text": [
      "n_attacks = 15 | PrivacyRisk(value=0.07118294555681086, ci=(0.0, 0.32178740112925336))\n"
     ]
    },
    {
     "name": "stderr",
     "output_type": "stream",
     "text": [
      "Found 2 failed queries out of 25. Check DEBUG messages for more details.\n"
     ]
    },
    {
     "name": "stdout",
     "output_type": "stream",
     "text": [
      "n_attacks = 20 | PrivacyRisk(value=0.006812454756356122, ci=(0.0, 0.1849769550560998))\n"
     ]
    },
    {
     "name": "stderr",
     "output_type": "stream",
     "text": [
      "Attack `univariate` could generate only 24 singling out queries out of the requested 25. This can probably lead to an underestimate of the singling out risk.\n"
     ]
    },
    {
     "name": "stdout",
     "output_type": "stream",
     "text": [
      "n_attacks = 25 | PrivacyRisk(value=0.011385326428894605, ci=(0.0, 0.1903594671855289))\n"
     ]
    }
   ],
   "source": [
    "for i in range (10, 30, 5):\n",
    "\n",
    "    evaluator = SinglingOutEvaluator(ori=ori, \n",
    "                                    syn=syn, \n",
    "                                    control=control,\n",
    "                                    n_attacks=i)\n",
    "\n",
    "    evaluator.evaluate(mode='univariate')\n",
    "    risk = evaluator.risk()\n",
    "    print(\"n_attacks =\", i, '|', risk)"
   ]
  },
  {
   "cell_type": "code",
   "execution_count": 5,
   "id": "84528e42",
   "metadata": {},
   "outputs": [
    {
     "name": "stdout",
     "output_type": "stream",
     "text": [
      "n_attacks = 25 | PrivacyRisk(value=0.07118294555681086, ci=(0.0, 0.32178740112925336))\n"
     ]
    }
   ],
   "source": [
    "evaluator = SinglingOutEvaluator(ori=ori, \n",
    "                                syn=syn, \n",
    "                                control=control,\n",
    "                                n_attacks=15)\n",
    "\n",
    "evaluator.evaluate(mode='univariate')\n",
    "risk = evaluator.risk()\n",
    "print(\"n_attacks =\", i, '|', risk)"
   ]
  },
  {
   "cell_type": "code",
   "execution_count": 6,
   "id": "4af6f284-81a3-4b84-a39b-b2beb6a21b24",
   "metadata": {},
   "outputs": [
    {
     "data": {
      "text/plain": [
       "['G3 == 19', 'absences == 26']"
      ]
     },
     "execution_count": 6,
     "metadata": {},
     "output_type": "execute_result"
    }
   ],
   "source": [
    "evaluator.queries()[:3]"
   ]
  },
  {
   "cell_type": "code",
   "execution_count": 7,
   "id": "4ea008ba-05a8-47b2-a316-132fe628cae3",
   "metadata": {},
   "outputs": [
    {
     "data": {
      "text/plain": [
       "PrivacyRisk(value=0.07118294555681086, ci=(0.0, 0.32178740112925336))"
      ]
     },
     "execution_count": 7,
     "metadata": {},
     "output_type": "execute_result"
    }
   ],
   "source": [
    "evaluator.risk(confidence_level=0.95)"
   ]
  },
  {
   "cell_type": "code",
   "execution_count": 8,
   "id": "367928ba-7a1e-4c20-9dc6-84c490873700",
   "metadata": {},
   "outputs": [
    {
     "name": "stdout",
     "output_type": "stream",
     "text": [
      "Successs rate of main attack: SuccessRate(value=0.20809054371314448, error=0.17072928461007914)\n",
      "Successs rate of baseline attack: SuccessRate(value=0.1019416505179243, error=0.10194165051792431)\n",
      "Successs rate of control attack: SuccessRate(value=0.1473999615978278, error=0.13831513438587623)\n"
     ]
    }
   ],
   "source": [
    "res = evaluator.results()\n",
    "\n",
    "print(\"Successs rate of main attack:\", res.attack_rate)\n",
    "print(\"Successs rate of baseline attack:\", res.baseline_rate)\n",
    "print(\"Successs rate of control attack:\", res.control_rate)"
   ]
  },
  {
   "cell_type": "markdown",
   "id": "8543aad4-897c-4e80-96a7-a47aea1caf22",
   "metadata": {},
   "source": [
    "Note that you can obtain the `PrivacyRisk` from the attack results by:"
   ]
  },
  {
   "cell_type": "code",
   "execution_count": 9,
   "id": "d1081269-1830-430f-8305-9f254641de89",
   "metadata": {},
   "outputs": [
    {
     "data": {
      "text/plain": [
       "PrivacyRisk(value=0.07118294555681086, ci=(0.0, 0.32178740112925336))"
      ]
     },
     "execution_count": 9,
     "metadata": {},
     "output_type": "execute_result"
    }
   ],
   "source": [
    "res.risk()"
   ]
  },
  {
   "cell_type": "code",
   "execution_count": 27,
   "id": "1a875b5f-4f75-4585-83b5-d0703ac82f90",
   "metadata": {
    "tags": []
   },
   "outputs": [
    {
     "name": "stderr",
     "output_type": "stream",
     "text": [
      "Found 3 failed queries out of 13. Check DEBUG messages for more details.\n",
      "Found 2 failed queries out of 13. Check DEBUG messages for more details.\n"
     ]
    },
    {
     "name": "stdout",
     "output_type": "stream",
     "text": [
      "n_attacks = 5 | PrivacyRisk(value=0.0813054980289304, ci=(0.0, 0.3648051686405654))\n"
     ]
    },
    {
     "name": "stderr",
     "output_type": "stream",
     "text": [
      "C:\\Users\\kshit\\Desktop\\anonymeter\\src\\anonymeter\\stats\\confidence.py:215: UserWarning: Attack is as good or worse as baseline model. Estimated rates: attack = 0.11404768617709919, baseline = 0.17342496522677625. Analysis results cannot be trusted.\n",
      "  self._sanity_check()\n",
      "Found 4 failed queries out of 13. Check DEBUG messages for more details.\n"
     ]
    },
    {
     "name": "stdout",
     "output_type": "stream",
     "text": [
      "n_attacks = 6 | PrivacyRisk(value=0.0, ci=(0.0, 0.18205018716296864))\n"
     ]
    },
    {
     "name": "stderr",
     "output_type": "stream",
     "text": [
      "C:\\Users\\kshit\\Desktop\\anonymeter\\src\\anonymeter\\stats\\confidence.py:215: UserWarning: Attack is as good or worse as baseline model. Estimated rates: attack = 0.11404768617709919, baseline = 0.11404768617709919. Analysis results cannot be trusted.\n",
      "  self._sanity_check()\n",
      "Found 2 failed queries out of 13. Check DEBUG messages for more details.\n"
     ]
    },
    {
     "name": "stdout",
     "output_type": "stream",
     "text": [
      "n_attacks = 7 | PrivacyRisk(value=0.0, ci=(0.0, 0.18205018716296864))\n",
      "n_attacks = 8 | PrivacyRisk(value=0.06702085216467575, ci=(0.0, 0.2836385212512319))\n"
     ]
    },
    {
     "name": "stderr",
     "output_type": "stream",
     "text": [
      "C:\\Users\\kshit\\Desktop\\anonymeter\\src\\anonymeter\\stats\\confidence.py:215: UserWarning: Attack is as good or worse as baseline model. Estimated rates: attack = 0.11404768617709919, baseline = 0.11404768617709919. Analysis results cannot be trusted.\n",
      "  self._sanity_check()\n",
      "Found 2 failed queries out of 13. Check DEBUG messages for more details.\n"
     ]
    },
    {
     "name": "stdout",
     "output_type": "stream",
     "text": [
      "n_attacks = 9 | PrivacyRisk(value=0.0, ci=(0.0, 0.18205018716296864))\n"
     ]
    },
    {
     "name": "stderr",
     "output_type": "stream",
     "text": [
      "C:\\Users\\kshit\\Desktop\\anonymeter\\src\\anonymeter\\stats\\confidence.py:215: UserWarning: Attack is as good or worse as baseline model. Estimated rates: attack = 0.11404768617709919, baseline = 0.11404768617709919. Analysis results cannot be trusted.\n",
      "  self._sanity_check()\n",
      "Found 3 failed queries out of 13. Check DEBUG messages for more details.\n"
     ]
    },
    {
     "name": "stdout",
     "output_type": "stream",
     "text": [
      "n_attacks = 10 | PrivacyRisk(value=0.0, ci=(0.0, 0.17812109590793448))\n"
     ]
    },
    {
     "name": "stderr",
     "output_type": "stream",
     "text": [
      "C:\\Users\\kshit\\Desktop\\anonymeter\\src\\anonymeter\\stats\\confidence.py:215: UserWarning: Attack is as good or worse as baseline model. Estimated rates: attack = 0.11404768617709919, baseline = 0.2328022442764533. Analysis results cannot be trusted.\n",
      "  self._sanity_check()\n",
      "Found 1 failed queries out of 13. Check DEBUG messages for more details.\n"
     ]
    },
    {
     "name": "stdout",
     "output_type": "stream",
     "text": [
      "n_attacks = 11 | PrivacyRisk(value=0.0, ci=(0.0, 0.17812109590793448))\n"
     ]
    },
    {
     "name": "stderr",
     "output_type": "stream",
     "text": [
      "Found 1 failed queries out of 13. Check DEBUG messages for more details.\n"
     ]
    },
    {
     "name": "stdout",
     "output_type": "stream",
     "text": [
      "n_attacks = 12 | PrivacyRisk(value=0.06702085216467575, ci=(0.0, 0.2836385212512319))\n"
     ]
    },
    {
     "name": "stderr",
     "output_type": "stream",
     "text": [
      "C:\\Users\\kshit\\Desktop\\anonymeter\\src\\anonymeter\\stats\\confidence.py:215: UserWarning: Attack is as good or worse as baseline model. Estimated rates: attack = 0.11404768617709919, baseline = 0.2328022442764533. Analysis results cannot be trusted.\n",
      "  self._sanity_check()\n",
      "Found 1 failed queries out of 13. Check DEBUG messages for more details.\n"
     ]
    },
    {
     "name": "stdout",
     "output_type": "stream",
     "text": [
      "n_attacks = 13 | PrivacyRisk(value=0.0, ci=(0.0, 0.17019685212963356))\n",
      "n_attacks = 14 | PrivacyRisk(value=0.0813054980289304, ci=(0.0, 0.3648051686405654))\n"
     ]
    }
   ],
   "source": [
    "for i in range (5, 15, 1):\n",
    "    evaluator = SinglingOutEvaluator(ori=ori, \n",
    "                                    syn=syn, \n",
    "                                    control=control,\n",
    "                                    n_attacks=13, # this attack takes longer\n",
    "                                    n_cols=4)\n",
    "\n",
    "    evaluator.evaluate(mode='multivariate')\n",
    "    risk = evaluator.risk()\n",
    "    print(\"n_attacks =\", i, '|', risk)"
   ]
  },
  {
   "cell_type": "code",
   "execution_count": 28,
   "id": "786dbb5b-6b52-41c1-8d07-2d9467a3d649",
   "metadata": {},
   "outputs": [
    {
     "data": {
      "text/plain": [
       "[\"romantic== 'yes' & sex== 'F' & Fjob== 'at_home' & famsup== 'no'\",\n",
       " \"goout<= 2 & nursery== 'yes' & reason== 'other' & school== 'MS'\"]"
      ]
     },
     "execution_count": 28,
     "metadata": {},
     "output_type": "execute_result"
    }
   ],
   "source": [
    "evaluator.queries()[:3]"
   ]
  },
  {
   "cell_type": "code",
   "execution_count": 35,
   "id": "dad588b3-b241-4256-ac11-ae73d9206782",
   "metadata": {},
   "outputs": [
    {
     "name": "stdout",
     "output_type": "stream",
     "text": [
      "PrivacyRisk(value=0.016971955541072965, ci=(0.0, 0.17760105797738132))\n"
     ]
    },
    {
     "name": "stderr",
     "output_type": "stream",
     "text": [
      "C:\\Users\\kshit\\Desktop\\anonymeter\\src\\anonymeter\\stats\\confidence.py:215: UserWarning: Attack is as good or worse as baseline model. Estimated rates: attack = 0.21560691872308008, baseline = 0.22914944640293342. Analysis results cannot be trusted.\n",
      "  self._sanity_check()\n"
     ]
    }
   ],
   "source": [
    "aux_cols = [\n",
    "    ['Mjob', 'Fjob', 'G1', 'G2', 'G3'],\n",
    "    [ 'sex', 'age', 'famsize', 'guardian', 'school']\n",
    "]\n",
    "\n",
    "evaluator = LinkabilityEvaluator(ori=ori, \n",
    "                                syn=syn, \n",
    "                                control=control,\n",
    "                                n_attacks=70,\n",
    "                                aux_cols=aux_cols,\n",
    "                                n_neighbors=10)\n",
    "\n",
    "evaluator.evaluate(n_jobs=-2)  # n_jobs follow joblib convention. -1 = all cores, -2 = all execept one\n",
    "print(evaluator.risk())"
   ]
  },
  {
   "cell_type": "code",
   "execution_count": 36,
   "id": "321da78a-d695-4d7c-8a62-f1a226bfc04a",
   "metadata": {},
   "outputs": [
    {
     "name": "stdout",
     "output_type": "stream",
     "text": [
      "Successs rate of main attack: SuccessRate(value=0.21560691872308008, error=0.09255952623945055)\n",
      "Successs rate of baseline attack: SuccessRate(value=0.22914944640293342, error=0.0947624162318555)\n",
      "Successs rate of control attack: SuccessRate(value=0.20206439104322674, error=0.09019139102420641)\n"
     ]
    }
   ],
   "source": [
    "res = evaluator.results()\n",
    "\n",
    "print(\"Successs rate of main attack:\", res.attack_rate)\n",
    "print(\"Successs rate of baseline attack:\", res.baseline_rate)\n",
    "print(\"Successs rate of control attack:\", res.control_rate)"
   ]
  },
  {
   "cell_type": "code",
   "execution_count": 14,
   "id": "c4d3644a-dd36-4807-aa3f-cf244cfd5d55",
   "metadata": {},
   "outputs": [
    {
     "name": "stdout",
     "output_type": "stream",
     "text": [
      "PrivacyRisk(value=0.052686532796335984, ci=(0.0, 0.15449685054412307))\n"
     ]
    }
   ],
   "source": [
    "print(evaluator.risk(n_neighbors=6))"
   ]
  },
  {
   "cell_type": "code",
   "execution_count": 37,
   "id": "6c07054c-7ced-46c3-8a12-14123f6cc965",
   "metadata": {
    "tags": []
   },
   "outputs": [
    {
     "name": "stderr",
     "output_type": "stream",
     "text": [
      "C:\\Users\\kshit\\Desktop\\anonymeter\\src\\anonymeter\\stats\\confidence.py:215: UserWarning: Attack is as good or worse as baseline model. Estimated rates: attack = 0.6540810402868823, baseline = 0.6829712353406727. Analysis results cannot be trusted.\n",
      "  self._sanity_check()\n",
      "C:\\Users\\kshit\\Desktop\\anonymeter\\src\\anonymeter\\stats\\confidence.py:215: UserWarning: Attack is as good or worse as baseline model. Estimated rates: attack = 0.42295947985655885, baseline = 0.432589544874489. Analysis results cannot be trusted.\n",
      "  self._sanity_check()\n",
      "C:\\Users\\kshit\\Desktop\\anonymeter\\src\\anonymeter\\stats\\confidence.py:215: UserWarning: Attack is as good or worse as baseline model. Estimated rates: attack = 0.2110980494620957, baseline = 0.2110980494620957. Analysis results cannot be trusted.\n",
      "  self._sanity_check()\n",
      "C:\\Users\\kshit\\Desktop\\anonymeter\\src\\anonymeter\\stats\\confidence.py:215: UserWarning: Attack is as good or worse as baseline model. Estimated rates: attack = 0.6155607802151617, baseline = 0.6155607802151617. Analysis results cannot be trusted.\n",
      "  self._sanity_check()\n",
      "C:\\Users\\kshit\\Desktop\\anonymeter\\src\\anonymeter\\stats\\confidence.py:215: UserWarning: Attack is as good or worse as baseline model. Estimated rates: attack = 0.4903699349820699, baseline = 0.5577803901075808. Analysis results cannot be trusted.\n",
      "  self._sanity_check()\n",
      "C:\\Users\\kshit\\Desktop\\anonymeter\\src\\anonymeter\\stats\\confidence.py:215: UserWarning: Attack is as good or worse as baseline model. Estimated rates: attack = 0.24961830953381628, baseline = 0.3362888946951876. Analysis results cannot be trusted.\n",
      "  self._sanity_check()\n",
      "C:\\Users\\kshit\\Desktop\\anonymeter\\src\\anonymeter\\stats\\confidence.py:215: UserWarning: Attack is as good or worse as baseline model. Estimated rates: attack = 0.28813856960553685, baseline = 0.297768634623467. Analysis results cannot be trusted.\n",
      "  self._sanity_check()\n",
      "C:\\Users\\kshit\\Desktop\\anonymeter\\src\\anonymeter\\stats\\confidence.py:215: UserWarning: Attack is as good or worse as baseline model. Estimated rates: attack = 0.8466823406454852, baseline = 0.8563124056634153. Analysis results cannot be trusted.\n",
      "  self._sanity_check()\n",
      "C:\\Users\\kshit\\Desktop\\anonymeter\\src\\anonymeter\\stats\\confidence.py:215: UserWarning: Attack is as good or worse as baseline model. Estimated rates: attack = 0.6444509752689521, baseline = 0.7889019505379042. Analysis results cannot be trusted.\n",
      "  self._sanity_check()\n",
      "C:\\Users\\kshit\\Desktop\\anonymeter\\src\\anonymeter\\stats\\confidence.py:215: UserWarning: Attack is as good or worse as baseline model. Estimated rates: attack = 0.6155607802151617, baseline = 0.7214914954123933. Analysis results cannot be trusted.\n",
      "  self._sanity_check()\n",
      "C:\\Users\\kshit\\Desktop\\anonymeter\\src\\anonymeter\\stats\\confidence.py:215: UserWarning: Attack is as good or worse as baseline model. Estimated rates: attack = 0.8852026007172057, baseline = 0.8852026007172057. Analysis results cannot be trusted.\n",
      "  self._sanity_check()\n",
      "C:\\Users\\kshit\\Desktop\\anonymeter\\src\\anonymeter\\stats\\confidence.py:215: UserWarning: Attack is as good or worse as baseline model. Estimated rates: attack = 0.6637111053048125, baseline = 0.7503816904661837. Analysis results cannot be trusted.\n",
      "  self._sanity_check()\n",
      "C:\\Users\\kshit\\Desktop\\anonymeter\\src\\anonymeter\\stats\\confidence.py:215: UserWarning: Attack is as good or worse as baseline model. Estimated rates: attack = 0.5866705851613713, baseline = 0.5963006501793015. Analysis results cannot be trusted.\n",
      "  self._sanity_check()\n",
      "C:\\Users\\kshit\\Desktop\\anonymeter\\src\\anonymeter\\stats\\confidence.py:215: UserWarning: Attack is as good or worse as baseline model. Estimated rates: attack = 0.27850850458760673, baseline = 0.365179089748978. Analysis results cannot be trusted.\n",
      "  self._sanity_check()\n",
      "C:\\Users\\kshit\\Desktop\\anonymeter\\src\\anonymeter\\stats\\confidence.py:215: UserWarning: Attack is as good or worse as baseline model. Estimated rates: attack = 0.5, baseline = 0.5192601300358602. Analysis results cannot be trusted.\n",
      "  self._sanity_check()\n",
      "C:\\Users\\kshit\\Desktop\\anonymeter\\src\\anonymeter\\stats\\confidence.py:215: UserWarning: Attack is as good or worse as baseline model. Estimated rates: attack = 0.24961830953381628, baseline = 0.3459189597131177. Analysis results cannot be trusted.\n",
      "  self._sanity_check()\n",
      "C:\\Users\\kshit\\Desktop\\anonymeter\\src\\anonymeter\\stats\\confidence.py:215: UserWarning: Attack is as good or worse as baseline model. Estimated rates: attack = 0.19183791942623543, baseline = 0.20146798444416558. Analysis results cannot be trusted.\n",
      "  self._sanity_check()\n",
      "C:\\Users\\kshit\\Desktop\\anonymeter\\src\\anonymeter\\stats\\confidence.py:215: UserWarning: Attack is as good or worse as baseline model. Estimated rates: attack = 0.7118614303944631, baseline = 0.7889019505379042. Analysis results cannot be trusted.\n",
      "  self._sanity_check()\n",
      "C:\\Users\\kshit\\Desktop\\anonymeter\\src\\anonymeter\\stats\\confidence.py:215: UserWarning: Attack is as good or worse as baseline model. Estimated rates: attack = 0.037756879139353126, baseline = 0.0762771392110737. Analysis results cannot be trusted.\n",
      "  self._sanity_check()\n",
      "C:\\Users\\kshit\\Desktop\\anonymeter\\src\\anonymeter\\stats\\confidence.py:215: UserWarning: Attack is as good or worse as baseline model. Estimated rates: attack = 0.037756879139353126, baseline = 0.037756879139353126. Analysis results cannot be trusted.\n",
      "  self._sanity_check()\n"
     ]
    }
   ],
   "source": [
    "columns = ori.columns\n",
    "results = []\n",
    "\n",
    "for secret in columns:\n",
    "    \n",
    "    aux_cols = [col for col in columns if col != secret]\n",
    "    \n",
    "    evaluator = InferenceEvaluator(ori=ori, \n",
    "                                   syn=syn, \n",
    "                                   control=control,\n",
    "                                   aux_cols=aux_cols,\n",
    "                                   secret=secret,\n",
    "                                   n_attacks=100)\n",
    "    evaluator.evaluate(n_jobs=-2)\n",
    "    results.append((secret, evaluator.results()))"
   ]
  },
  {
   "cell_type": "code",
   "execution_count": 38,
   "id": "0e492eeb-d296-4973-a08e-c5afc0ac36b5",
   "metadata": {
    "tags": []
   },
   "outputs": [
    {
     "data": {
      "image/png": "[encoded data removed]",
      "text/plain": [
       "<Figure size 640x480 with 1 Axes>"
      ]
     },
     "metadata": {},
     "output_type": "display_data"
    }
   ],
   "source": [
    "fig, ax = plt.subplots()\n",
    "\n",
    "risks = [res[1].risk().value for res in results]\n",
    "columns = [res[0] for res in results]\n",
    "\n",
    "ax.bar(x=columns, height=risks, alpha=0.5, ecolor='black', capsize=10)\n",
    "\n",
    "plt.xticks(rotation=45, ha='right')\n",
    "ax.set_ylabel(\"Measured inference risk\")\n",
    "_ = ax.set_xlabel(\"Secret column\")"
   ]
  },
  {
   "cell_type": "markdown",
   "id": "b3e8c81d-7813-4779-8e27-3a633ec20ee7",
   "metadata": {},
   "source": [
    "As visible, many columns in the dataset carry a significant inference risk. This means that an attacker in possession of the synthetic dataset can use it to infer some attribute of records in the original data."
   ]
  }
 ],
 "metadata": {
  "kernelspec": {
   "display_name": "sdk",
   "language": "python",
   "name": "python3"
  },
  "language_info": {
   "codemirror_mode": {
    "name": "ipython",
    "version": 3
   },
   "file_extension": ".py",
   "mimetype": "text/x-python",
   "name": "python",
   "nbconvert_exporter": "python",
   "pygments_lexer": "ipython3",
   "version": "3.10.11"
  },
  "vscode": {
   "interpreter": {
    "hash": "237cf5f6b3dcd73bf2688629baee50bd53e43ee0aa8f2bde7060bbd4d3c193da"
   }
  }
 },
 "nbformat": 4,
 "nbformat_minor": 5
}
